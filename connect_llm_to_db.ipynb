{
 "cells": [
  {
   "cell_type": "code",
   "execution_count": 2,
   "metadata": {},
   "outputs": [],
   "source": [
    "import requests\n",
    "import json\n",
    "from dotenv import load_dotenv\n",
    "import os\n",
    "import recipe_interface\n",
    "load_dotenv()\n",
    "ARLIAI_API_KEY = os.getenv(\"ARLIAI_API_KEY\")"
   ]
  },
  {
   "cell_type": "markdown",
   "metadata": {},
   "source": [
    "## Connect LLM to Database"
   ]
  },
  {
   "cell_type": "code",
   "execution_count": 3,
   "metadata": {},
   "outputs": [],
   "source": [
    "def get_pantry_summary():\n",
    "    conn = sqlite3.connect('pantry.db')\n",
    "    conn.execute(\"PRAGMA foreign_keys = 1\")\n",
    "    c = conn.cursor()\n",
    "    \n",
    "    try:\n",
    "        c.execute(\"\"\"\n",
    "            SELECT\n",
    "                p.ingredient_name,\n",
    "                SUM(p.quantity) AS total_quantity,\n",
    "                i.unit_of_measurement\n",
    "            FROM pantry AS p\n",
    "            JOIN ingredients AS i\n",
    "                ON p.ingredient_name = i.name\n",
    "            GROUP BY p.ingredient_name\n",
    "        \"\"\")\n",
    "        rows = c.fetchall()\n",
    "    except sqlite3.Error as error:\n",
    "        print(\"Failed to retrieve pantry summary:\", error)\n",
    "        conn.close()\n",
    "        return []\n",
    "    \n",
    "    conn.close()\n",
    "\n",
    "    ingred_summary = \"\"\n",
    "    for row in rows:\n",
    "        name, total_qty, unit = row\n",
    "        ingred = f\"{name}: {total_qty} {unit} total in pantry\\n\"\n",
    "        ingred_summary += ingred\n",
    "    return ingred_summary"
   ]
  },
  {
   "cell_type": "code",
   "execution_count": null,
   "metadata": {},
   "outputs": [
    {
     "name": "stdout",
     "output_type": "stream",
     "text": [
      "\n",
      "Here is your recipe:\n",
      "\n",
      "{'title': 'Spaghetti alla Carbonara', 'ingredients': ['12 oz spaghetti', '6 slices pancetta, diced', '4 cloves garlic, minced', '4 large eggs', '1 cup grated parmesan cheese', 'Salt, to taste', 'Black pepper, freshly ground, to taste', 'Olive oil'], 'instructions': ['Bring a large pot of salted water to a boil. Cook spaghetti according to package instructions until al dente. Reserve 1 cup of pasta water before draining.', 'In a large skillet, cook diced pancetta over medium heat until crispy, about 5-7 minutes.', 'Add minced garlic to the skillet with the pancetta and cook for an additional 1 minute, stirring frequently to prevent burning.', 'While the pasta cooks, whisk together eggs, parmesan cheese, salt, and black pepper in a large bowl.', 'Drain the cooked spaghetti and add it directly to the skillet with the pancetta and garlic, tossing well to combine.', 'Pour the egg mixture over the spaghetti, stirring quickly to coat the strands evenly. If necessary, add some reserved pasta water to help create a creamy consistency.', 'Taste and adjust seasoning if needed. Serve immediately.'], 'prep_time': '15 minutes', 'cook_time': '20 minutes'}\n",
      "Failed to insert Spaghetti alla Carbonara:  database is locked\n"
     ]
    }
   ],
   "source": []
  },
  {
   "cell_type": "code",
   "execution_count": null,
   "metadata": {},
   "outputs": [],
   "source": []
  }
 ],
 "metadata": {
  "kernelspec": {
   "display_name": "Python 3",
   "language": "python",
   "name": "python3"
  },
  "language_info": {
   "codemirror_mode": {
    "name": "ipython",
    "version": 3
   },
   "file_extension": ".py",
   "mimetype": "text/x-python",
   "name": "python",
   "nbconvert_exporter": "python",
   "pygments_lexer": "ipython3",
   "version": "3.9.6"
  }
 },
 "nbformat": 4,
 "nbformat_minor": 2
}
